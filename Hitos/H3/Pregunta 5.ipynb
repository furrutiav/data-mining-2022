{
 "cells": [
  {
   "cell_type": "markdown",
   "metadata": {},
   "source": [
    "### Pregunta 5\n",
    "**¿Un Hashtag es más útil a la hora de entrenar un modelo para predecir un emoji?**\n",
    "\n",
    "Para poder responder a la pregunta de si es más efectivo predecir un emoji a partir de hashtags o el contenido del tweet, se debe generar un nuevo data frame, el cual contenga solo los tweets que tienen hashtags, ya que el mantener los tweets sin hashtags no aporta información relevante para esta pregunta. \n",
    "\n",
    "Ahora bien, debido a que los hashtags se escriben sin espacios entre caracteres, no se puede hacer exactamente el mismo pre-procesamiento que se realizó para los caracteres del tweet. Es por esto, que se debe eliminar todo el contenido de cada hashtag que no aporta información sobre el contenido del tweet, en este caso, solo números y puntuación(.,!,#), donde además se debe procurar dejar todo el contenido del hashtag en minúscula.\n",
    "\n",
    "Cabe recalcar, que de ser necesario, se realizará un reajuste en el balance de clases mediante subsampling, puesto que en la base de datos hay una mayor presencia de ciertos emojis, lo que puede generar resultados poco concluyentes.\n",
    "\n",
    "Luego del pre-procesamiento, se deberán crear 2 dataset más, uno que contenga los tweets sin los hashtags y otro con solo los hashtags, ya que con esto podremos aplicar diferentes técnicas de clasificación a cada uno de los 3 data frame y podremos cuantificar la efectividad de los hashtags para predecir un emoji. A partir de esto, se ocupará el método de KNN, puesto que este es usado frecuentemente para búsquedas semánticas (procesamiento de lenguaje natural), asociando k puntos de datos más cercanos del dataset train a el punto de consulta (puede ser con distancia euclidiana), es decir, cuando se entrena el clasificador,  se asociaron k palabras para cada emoji y luego mediremos la distancia de cada palabra del test set con las del train set. \n",
    "\n",
    "Posteriormente, para poder comparar los resultados entre clasificadores y escoger el más óptimo, se ocupará adicionalmente el clasificador que tenga los mejores resultados en la pregunta 1, ya que el procedimiento es análogo en ambas preguntas. \n",
    "\n",
    "En consecuencia, para poder medir la efectividad de cada clasificador y poder hacer una comparación entre ellos, se utilizaran las métricas F1 score y sensibilidad, puesto que existe un desbalance entre clases (cantidad de cada emoji), haciendo que accuracy no sea la mejor métrica en este caso (de igual forma se espera un porcentaje sobre el 70%).\n",
    "\n",
    "Finalmente, se escogieron estos dos clasificadores por sobre el resto, ya que trabajan de una manera más óptima en presencia de multiclases, acertando un mayor número de veces correctamente al emoji correspondiente, lo cual fue previamente observado en el procedimiento para la pregunta 1. "
   ]
  },
  {
   "cell_type": "code",
   "execution_count": 4,
   "metadata": {},
   "outputs": [],
   "source": [
    "import pandas as pd\n",
    "import numpy as np\n",
    "import pickle\n",
    "from string import punctuation\n",
    " \n",
    "import matplotlib.pyplot as plt\n",
    "import seaborn as sns\n",
    "sns.set_theme(style=\"whitegrid\")\n",
    "plt.rc('axes', titlesize=14)\n",
    "plt.rc('legend', fontsize=14)\n",
    "plt.rc('xtick', labelsize=12)\n",
    "plt.rc('ytick', labelsize=12)\n",
    "plt.rcParams.update({'font.size': 16})\n",
    "plt.rcParams['axes.titlesize'] = 16\n",
    "plt.rcParams[\"figure.figsize\"] = (10, 6)\n",
    "plt.rcParams.update({'lines.markeredgewidth': 1})\n",
    "plt.rcParams.update({'errorbar.capsize': 2})\n",
    "import plotly.express as px"
   ]
  },
  {
   "cell_type": "code",
   "execution_count": 5,
   "metadata": {},
   "outputs": [],
   "source": [
    "import nltk\n",
    "from nltk.corpus import stopwords\n",
    "from nltk.stem.wordnet import WordNetLemmatizer\n",
    "from nltk.stem.porter import PorterStemmer\n",
    "from nltk.tokenize import TweetTokenizer # tokenizer especial para tweets\n",
    "tt = TweetTokenizer()"
   ]
  },
  {
   "cell_type": "code",
   "execution_count": 6,
   "metadata": {},
   "outputs": [],
   "source": [
    "file_names = {\n",
    "    \"df_es_mapping\": \"../../Data/mapping/df_es_mapping.pickle\",\n",
    "    \"df_us_mapping\": \"../../Data/mapping/df_us_mapping.pickle\",\n",
    "    \n",
    "    \"df_es_test\": \"../../Data/test/df_es_test.pickle\",\n",
    "    \"df_us_test\": \"../../Data/test/df_us_test.pickle\",\n",
    "    \n",
    "    \"df_es_train\": \"../../Data/train/df_es_train.pickle\",\n",
    "    \"df_us_train\": \"../../Data/train/df_us_train.pickle\",\n",
    "    \n",
    "    \"df_es_trial\": \"../../Data/trial/df_es_trial.pickle\",\n",
    "    \"df_us_trial\": \"../../Data/trial/df_us_trial.pickle\",\n",
    "}"
   ]
  },
  {
   "cell_type": "code",
   "execution_count": 7,
   "metadata": {},
   "outputs": [],
   "source": [
    "df_es_train = pickle.load(open(file_names[\"df_es_train\"], \"rb\"))\n",
    "df_es_trial = pickle.load(open(file_names[\"df_es_trial\"], \"rb\"))\n",
    "df_es_test = pickle.load(open(file_names[\"df_es_test\"], \"rb\"))\n",
    "\n",
    "df_us_train = pickle.load(open(file_names[\"df_us_train\"], \"rb\"))\n",
    "df_us_trial = pickle.load(open(file_names[\"df_us_trial\"], \"rb\"))\n",
    "df_us_test = pickle.load(open(file_names[\"df_us_test\"], \"rb\"))\n",
    "\n",
    "df_es_mapping= pickle.load(open(file_names[\"df_es_mapping\"], \"rb\"))\n",
    "df_us_mapping= pickle.load(open(file_names[\"df_us_mapping\"], \"rb\"))\n"
   ]
  },
  {
   "cell_type": "code",
   "execution_count": 10,
   "metadata": {},
   "outputs": [
    {
     "data": {
      "text/html": [
       "<div>\n",
       "<style scoped>\n",
       "    .dataframe tbody tr th:only-of-type {\n",
       "        vertical-align: middle;\n",
       "    }\n",
       "\n",
       "    .dataframe tbody tr th {\n",
       "        vertical-align: top;\n",
       "    }\n",
       "\n",
       "    .dataframe thead th {\n",
       "        text-align: right;\n",
       "    }\n",
       "</style>\n",
       "<table border=\"1\" class=\"dataframe\">\n",
       "  <thead>\n",
       "    <tr style=\"text-align: right;\">\n",
       "      <th></th>\n",
       "      <th>id</th>\n",
       "      <th>text</th>\n",
       "      <th>label</th>\n",
       "    </tr>\n",
       "  </thead>\n",
       "  <tbody>\n",
       "    <tr>\n",
       "      <th>0</th>\n",
       "      <td>793417168469757952</td>\n",
       "      <td>Es imposible quererte más @ Plaza Del Callao -...</td>\n",
       "      <td>0</td>\n",
       "    </tr>\n",
       "    <tr>\n",
       "      <th>1</th>\n",
       "      <td>718539939063926790</td>\n",
       "      <td>Disfrutando de buena comida con buena compañía...</td>\n",
       "      <td>4</td>\n",
       "    </tr>\n",
       "    <tr>\n",
       "      <th>2</th>\n",
       "      <td>670562346067193856</td>\n",
       "      <td>Muchísimas Felicidades M!!! Nos vemos pronto! ...</td>\n",
       "      <td>11</td>\n",
       "    </tr>\n",
       "    <tr>\n",
       "      <th>3</th>\n",
       "      <td>783680728538214400</td>\n",
       "      <td>Y pensar que a esta persona la conozco de hace...</td>\n",
       "      <td>11</td>\n",
       "    </tr>\n",
       "    <tr>\n",
       "      <th>4</th>\n",
       "      <td>711210617043075073</td>\n",
       "      <td>¡Que buenas son las noches así y que buena com...</td>\n",
       "      <td>17</td>\n",
       "    </tr>\n",
       "  </tbody>\n",
       "</table>\n",
       "</div>"
      ],
      "text/plain": [
       "                   id                                               text label\n",
       "0  793417168469757952  Es imposible quererte más @ Plaza Del Callao -...     0\n",
       "1  718539939063926790  Disfrutando de buena comida con buena compañía...     4\n",
       "2  670562346067193856  Muchísimas Felicidades M!!! Nos vemos pronto! ...    11\n",
       "3  783680728538214400  Y pensar que a esta persona la conozco de hace...    11\n",
       "4  711210617043075073  ¡Que buenas son las noches así y que buena com...    17"
      ]
     },
     "execution_count": 10,
     "metadata": {},
     "output_type": "execute_result"
    }
   ],
   "source": [
    "%%capture\n",
    "df_es_train.head()"
   ]
  },
  {
   "cell_type": "markdown",
   "metadata": {},
   "source": [
    "## Tweets en Español"
   ]
  },
  {
   "cell_type": "code",
   "execution_count": 19,
   "metadata": {},
   "outputs": [
    {
     "name": "stdout",
     "output_type": "stream",
     "text": [
      "CPU times: total: 3.17 s\n",
      "Wall time: 3.62 s\n"
     ]
    }
   ],
   "source": [
    "%%time\n",
    "%%capture\n",
    "df_es_train['tokenized_text'] = df_es_train['text'].str.lower().apply(tt.tokenize) \n",
    "df_es_train.head()"
   ]
  },
  {
   "cell_type": "code",
   "execution_count": 20,
   "metadata": {},
   "outputs": [
    {
     "name": "stderr",
     "output_type": "stream",
     "text": [
      "[nltk_data] Downloading package stopwords to C:\\Users\\Gianluca\n",
      "[nltk_data]     Musso\\AppData\\Roaming\\nltk_data...\n",
      "[nltk_data]   Package stopwords is already up-to-date!\n"
     ]
    }
   ],
   "source": [
    "\n",
    "%%capture\n",
    "nltk.download('stopwords')\n",
    "from nltk.corpus import stopwords\n",
    "\n",
    "stopwords_es = stopwords.words('spanish')\n",
    "print(stopwords_es[:10])"
   ]
  },
  {
   "cell_type": "code",
   "execution_count": 21,
   "metadata": {},
   "outputs": [],
   "source": [
    "%%capture\n",
    "from string import punctuation\n",
    "stopwords_es_withpunct = set(stopwords_es).union(set(punctuation))\n",
    "print(list(stopwords_es_withpunct)[:10])"
   ]
  },
  {
   "cell_type": "code",
   "execution_count": 23,
   "metadata": {},
   "outputs": [],
   "source": [
    "%%capture\n",
    "df_es_train['tokenized_text'] = df_es_train['tokenized_text'].apply(lambda x: [word for word in x if word not in (stopwords_es_withpunct)])\n",
    "df_es_train[\"length tokenized\"] = df_es_train['tokenized_text'].apply(len)\n",
    "df_es_train.head()"
   ]
  },
  {
   "cell_type": "code",
   "execution_count": 24,
   "metadata": {},
   "outputs": [],
   "source": [
    "from nltk.stem import PorterStemmer\n",
    "\n",
    "# puede ser porter o wnl\n",
    "porter = PorterStemmer()\n",
    "wnl = WordNetLemmatizer()"
   ]
  },
  {
   "cell_type": "code",
   "execution_count": 26,
   "metadata": {},
   "outputs": [],
   "source": [
    "%%capture\n",
    "df_es_train['StemmedTokenized_text'] = df_es_train['tokenized_text'].apply(lambda x: [porter.stem(word) for word in x])"
   ]
  },
  {
   "cell_type": "code",
   "execution_count": 27,
   "metadata": {},
   "outputs": [],
   "source": [
    "\n",
    "%%capture\n",
    "df_es_train.head()"
   ]
  },
  {
   "cell_type": "code",
   "execution_count": 29,
   "metadata": {},
   "outputs": [
    {
     "data": {
      "text/html": [
       "<div>\n",
       "<style scoped>\n",
       "    .dataframe tbody tr th:only-of-type {\n",
       "        vertical-align: middle;\n",
       "    }\n",
       "\n",
       "    .dataframe tbody tr th {\n",
       "        vertical-align: top;\n",
       "    }\n",
       "\n",
       "    .dataframe thead th {\n",
       "        text-align: right;\n",
       "    }\n",
       "</style>\n",
       "<table border=\"1\" class=\"dataframe\">\n",
       "  <thead>\n",
       "    <tr style=\"text-align: right;\">\n",
       "      <th></th>\n",
       "      <th>text</th>\n",
       "    </tr>\n",
       "  </thead>\n",
       "  <tbody>\n",
       "    <tr>\n",
       "      <th>11</th>\n",
       "      <td>[mama]</td>\n",
       "    </tr>\n",
       "    <tr>\n",
       "      <th>14</th>\n",
       "      <td>[boy, girls, friends, day, work]</td>\n",
       "    </tr>\n",
       "    <tr>\n",
       "      <th>27</th>\n",
       "      <td>[twinseurs]</td>\n",
       "    </tr>\n",
       "    <tr>\n",
       "      <th>31</th>\n",
       "      <td>[sananton2016]</td>\n",
       "    </tr>\n",
       "    <tr>\n",
       "      <th>32</th>\n",
       "      <td>[Mallorca]</td>\n",
       "    </tr>\n",
       "    <tr>\n",
       "      <th>...</th>\n",
       "      <td>...</td>\n",
       "    </tr>\n",
       "    <tr>\n",
       "      <th>81300</th>\n",
       "      <td>[aprovechandoelverano]</td>\n",
       "    </tr>\n",
       "    <tr>\n",
       "      <th>81307</th>\n",
       "      <td>[family]</td>\n",
       "    </tr>\n",
       "    <tr>\n",
       "      <th>81308</th>\n",
       "      <td>[codigodescuento, SUITATP]</td>\n",
       "    </tr>\n",
       "    <tr>\n",
       "      <th>81316</th>\n",
       "      <td>[Baco, madrid2016]</td>\n",
       "    </tr>\n",
       "    <tr>\n",
       "      <th>81321</th>\n",
       "      <td>[friends, Madrid, Spain, cena]</td>\n",
       "    </tr>\n",
       "  </tbody>\n",
       "</table>\n",
       "<p>24025 rows × 1 columns</p>\n",
       "</div>"
      ],
      "text/plain": [
       "                                   text\n",
       "11                               [mama]\n",
       "14     [boy, girls, friends, day, work]\n",
       "27                          [twinseurs]\n",
       "31                       [sananton2016]\n",
       "32                           [Mallorca]\n",
       "...                                 ...\n",
       "81300            [aprovechandoelverano]\n",
       "81307                          [family]\n",
       "81308        [codigodescuento, SUITATP]\n",
       "81316                [Baco, madrid2016]\n",
       "81321    [friends, Madrid, Spain, cena]\n",
       "\n",
       "[24025 rows x 1 columns]"
      ]
     },
     "execution_count": 29,
     "metadata": {},
     "output_type": "execute_result"
    }
   ],
   "source": [
    "# Obtener el contenido de los hashtags de cada tweet del df ya filtrado\n",
    "import re \n",
    "df_es_only_hashtags = pd.DataFrame()\n",
    "df_es_only_hashtags['text']=df_es_train['text'].apply(lambda x: re.findall(r\"#(\\w+)\", x))\n",
    "df_es_only_hashtags[df_es_only_hashtags['text'].apply(lambda d: len(d)) > 0]\n"
   ]
  },
  {
   "cell_type": "code",
   "execution_count": 33,
   "metadata": {},
   "outputs": [],
   "source": [
    "%%capture\n",
    "# este es el dataset de train completo filtrado con solo los tweets que tienen hashtag\n",
    "df_es_train_filtered = df_es_train[df_es_only_hashtags['text'].apply(lambda d: len(d)) > 0]\n",
    "df_es_train_filtered['hashtags'] = df_es_only_hashtags['text']\n",
    "\n",
    "df_es_train_filtered.head()\n"
   ]
  },
  {
   "cell_type": "code",
   "execution_count": 35,
   "metadata": {},
   "outputs": [],
   "source": [
    "%%capture\n",
    "# se agrega al train las columnas tokenizadas con y sin hashtags\n",
    "df_es_train_filtered['StemmedTokenized_text_wo_hashtag'] = df_es_train_filtered['StemmedTokenized_text'].apply(lambda li: [word for word in li if not word.startswith('#')])\n",
    "df_es_train_filtered"
   ]
  },
  {
   "cell_type": "code",
   "execution_count": 39,
   "metadata": {},
   "outputs": [],
   "source": [
    "%%capture\n",
    "df_es_train_filtered['StemmedTokenized_text_as_str'] = df_es_train_filtered['StemmedTokenized_text'].astype(object).apply(lambda x: ' '.join([str(i) for i in x]))\n",
    "df_es_train_filtered['StemmedTokenized_text_wo_hashtag_as_str'] = df_es_train_filtered['StemmedTokenized_text_wo_hashtag'].astype(object).apply(lambda x: ' '.join([str(i) for i in x]))\n",
    "df_es_train_filtered['hashtags_as_str'] = df_es_train_filtered['hashtags'].astype(object).apply(lambda x: ' '.join([str(i) for i in x]))"
   ]
  },
  {
   "cell_type": "code",
   "execution_count": 40,
   "metadata": {},
   "outputs": [
    {
     "data": {
      "text/html": [
       "<div>\n",
       "<style scoped>\n",
       "    .dataframe tbody tr th:only-of-type {\n",
       "        vertical-align: middle;\n",
       "    }\n",
       "\n",
       "    .dataframe tbody tr th {\n",
       "        vertical-align: top;\n",
       "    }\n",
       "\n",
       "    .dataframe thead th {\n",
       "        text-align: right;\n",
       "    }\n",
       "</style>\n",
       "<table border=\"1\" class=\"dataframe\">\n",
       "  <thead>\n",
       "    <tr style=\"text-align: right;\">\n",
       "      <th></th>\n",
       "      <th>id</th>\n",
       "      <th>text</th>\n",
       "      <th>label</th>\n",
       "      <th>tokenized_text</th>\n",
       "      <th>length tokenized</th>\n",
       "      <th>StemmedTokenized_text</th>\n",
       "      <th>hashtags</th>\n",
       "      <th>StemmedTokenized_text_wo_hashtag</th>\n",
       "      <th>StemmedTokenized_text_as_str</th>\n",
       "      <th>StemmedTokenized_text_wo_hashtag_as_str</th>\n",
       "      <th>hashtags_as_str</th>\n",
       "    </tr>\n",
       "  </thead>\n",
       "  <tbody>\n",
       "    <tr>\n",
       "      <th>11</th>\n",
       "      <td>732910832930062336</td>\n",
       "      <td>Como me gusta reunirme con mi madre aun que si...</td>\n",
       "      <td>5</td>\n",
       "      <td>[gusta, reunirme, madre, aun, siempre, caen, b...</td>\n",
       "      <td>9</td>\n",
       "      <td>[gusta, reunirm, madr, aun, siempr, caen, bron...</td>\n",
       "      <td>[mama]</td>\n",
       "      <td>[gusta, reunirm, madr, aun, siempr, caen, bron...</td>\n",
       "      <td>gusta reunirm madr aun siempr caen bronca #mama …</td>\n",
       "      <td>gusta reunirm madr aun siempr caen bronca …</td>\n",
       "      <td>mama</td>\n",
       "    </tr>\n",
       "    <tr>\n",
       "      <th>14</th>\n",
       "      <td>795284818866995200</td>\n",
       "      <td>Descansando un poco en el trabajo #boy #girls ...</td>\n",
       "      <td>13</td>\n",
       "      <td>[descansando, trabajo, #boy, #girls, #friends,...</td>\n",
       "      <td>9</td>\n",
       "      <td>[descansando, trabajo, #boy, #girl, #friend, #...</td>\n",
       "      <td>[boy, girls, friends, day, work]</td>\n",
       "      <td>[descansando, trabajo, madrid, spain]</td>\n",
       "      <td>descansando trabajo #boy #girl #friend #day #w...</td>\n",
       "      <td>descansando trabajo madrid spain</td>\n",
       "      <td>boy girls friends day work</td>\n",
       "    </tr>\n",
       "    <tr>\n",
       "      <th>27</th>\n",
       "      <td>694634313728532480</td>\n",
       "      <td>@user ya tenemos nuestro medidor de altura par...</td>\n",
       "      <td>1</td>\n",
       "      <td>[@user, medidor, altura, #twinseurs, algemesí]</td>\n",
       "      <td>5</td>\n",
       "      <td>[@user, medidor, altura, #twinseur, algemesí]</td>\n",
       "      <td>[twinseurs]</td>\n",
       "      <td>[@user, medidor, altura, algemesí]</td>\n",
       "      <td>@user medidor altura #twinseur algemesí</td>\n",
       "      <td>@user medidor altura algemesí</td>\n",
       "      <td>twinseurs</td>\n",
       "    </tr>\n",
       "    <tr>\n",
       "      <th>31</th>\n",
       "      <td>689892121680056321</td>\n",
       "      <td>Los 4 fantásticamente quemados #sananton2016 @...</td>\n",
       "      <td>2</td>\n",
       "      <td>[4, fantásticamente, quemados, #sananton2016, ...</td>\n",
       "      <td>9</td>\n",
       "      <td>[4, fantásticament, quemado, #sananton2016, pu...</td>\n",
       "      <td>[sananton2016]</td>\n",
       "      <td>[4, fantásticament, quemado, puerto, lápice, c...</td>\n",
       "      <td>4 fantásticament quemado #sananton2016 puerto ...</td>\n",
       "      <td>4 fantásticament quemado puerto lápice castill...</td>\n",
       "      <td>sananton2016</td>\n",
       "    </tr>\n",
       "    <tr>\n",
       "      <th>32</th>\n",
       "      <td>795575808647696385</td>\n",
       "      <td>Sweet home! #Mallorca (@ Aeropuerto de Palma d...</td>\n",
       "      <td>4</td>\n",
       "      <td>[sweet, home, #mallorca, aeropuerto, palma, ma...</td>\n",
       "      <td>7</td>\n",
       "      <td>[sweet, home, #mallorca, aeropuerto, palma, ma...</td>\n",
       "      <td>[Mallorca]</td>\n",
       "      <td>[sweet, home, aeropuerto, palma, mallorca, @user]</td>\n",
       "      <td>sweet home #mallorca aeropuerto palma mallorca...</td>\n",
       "      <td>sweet home aeropuerto palma mallorca @user</td>\n",
       "      <td>Mallorca</td>\n",
       "    </tr>\n",
       "  </tbody>\n",
       "</table>\n",
       "</div>"
      ],
      "text/plain": [
       "                    id                                               text  \\\n",
       "11  732910832930062336  Como me gusta reunirme con mi madre aun que si...   \n",
       "14  795284818866995200  Descansando un poco en el trabajo #boy #girls ...   \n",
       "27  694634313728532480  @user ya tenemos nuestro medidor de altura par...   \n",
       "31  689892121680056321  Los 4 fantásticamente quemados #sananton2016 @...   \n",
       "32  795575808647696385  Sweet home! #Mallorca (@ Aeropuerto de Palma d...   \n",
       "\n",
       "   label                                     tokenized_text  length tokenized  \\\n",
       "11     5  [gusta, reunirme, madre, aun, siempre, caen, b...                 9   \n",
       "14    13  [descansando, trabajo, #boy, #girls, #friends,...                 9   \n",
       "27     1     [@user, medidor, altura, #twinseurs, algemesí]                 5   \n",
       "31     2  [4, fantásticamente, quemados, #sananton2016, ...                 9   \n",
       "32     4  [sweet, home, #mallorca, aeropuerto, palma, ma...                 7   \n",
       "\n",
       "                                StemmedTokenized_text  \\\n",
       "11  [gusta, reunirm, madr, aun, siempr, caen, bron...   \n",
       "14  [descansando, trabajo, #boy, #girl, #friend, #...   \n",
       "27      [@user, medidor, altura, #twinseur, algemesí]   \n",
       "31  [4, fantásticament, quemado, #sananton2016, pu...   \n",
       "32  [sweet, home, #mallorca, aeropuerto, palma, ma...   \n",
       "\n",
       "                            hashtags  \\\n",
       "11                            [mama]   \n",
       "14  [boy, girls, friends, day, work]   \n",
       "27                       [twinseurs]   \n",
       "31                    [sananton2016]   \n",
       "32                        [Mallorca]   \n",
       "\n",
       "                     StemmedTokenized_text_wo_hashtag  \\\n",
       "11  [gusta, reunirm, madr, aun, siempr, caen, bron...   \n",
       "14              [descansando, trabajo, madrid, spain]   \n",
       "27                 [@user, medidor, altura, algemesí]   \n",
       "31  [4, fantásticament, quemado, puerto, lápice, c...   \n",
       "32  [sweet, home, aeropuerto, palma, mallorca, @user]   \n",
       "\n",
       "                         StemmedTokenized_text_as_str  \\\n",
       "11  gusta reunirm madr aun siempr caen bronca #mama …   \n",
       "14  descansando trabajo #boy #girl #friend #day #w...   \n",
       "27            @user medidor altura #twinseur algemesí   \n",
       "31  4 fantásticament quemado #sananton2016 puerto ...   \n",
       "32  sweet home #mallorca aeropuerto palma mallorca...   \n",
       "\n",
       "              StemmedTokenized_text_wo_hashtag_as_str  \\\n",
       "11        gusta reunirm madr aun siempr caen bronca …   \n",
       "14                   descansando trabajo madrid spain   \n",
       "27                      @user medidor altura algemesí   \n",
       "31  4 fantásticament quemado puerto lápice castill...   \n",
       "32         sweet home aeropuerto palma mallorca @user   \n",
       "\n",
       "               hashtags_as_str  \n",
       "11                        mama  \n",
       "14  boy girls friends day work  \n",
       "27                   twinseurs  \n",
       "31                sananton2016  \n",
       "32                    Mallorca  "
      ]
     },
     "execution_count": 40,
     "metadata": {},
     "output_type": "execute_result"
    }
   ],
   "source": [
    "df_es_train_filtered.head()\n"
   ]
  },
  {
   "cell_type": "markdown",
   "metadata": {},
   "source": [
    "## KNN without Hashtag"
   ]
  },
  {
   "cell_type": "code",
   "execution_count": 42,
   "metadata": {},
   "outputs": [],
   "source": [
    "%%capture\n",
    "from sklearn.feature_extraction.text import CountVectorizer\n",
    "\n",
    "vectorizer = CountVectorizer()\n",
    "X = vectorizer.fit_transform(df_es_train_filtered['StemmedTokenized_text_wo_hashtag_as_str'])\n",
    "y = df_es_train_filtered['label']\n",
    "X"
   ]
  },
  {
   "cell_type": "code",
   "execution_count": 46,
   "metadata": {},
   "outputs": [
    {
     "data": {
      "text/plain": [
       "KNeighborsClassifier(n_neighbors=3)"
      ]
     },
     "execution_count": 46,
     "metadata": {},
     "output_type": "execute_result"
    }
   ],
   "source": [
    "# entrenar knn con hashtags\n",
    "import pandas\n",
    "from sklearn.model_selection import train_test_split\n",
    "from sklearn.neighbors import KNeighborsClassifier\n",
    "from sklearn.tree import DecisionTreeClassifier\n",
    "from sklearn.metrics import accuracy_score\n",
    "from sklearn.metrics import classification_report\n",
    "from sklearn.metrics import f1_score\n",
    "from sklearn.metrics import precision_score\n",
    "from sklearn.metrics import recall_score\n",
    "from sklearn.feature_extraction.text import CountVectorizer\n",
    "\n",
    "# comparar metricas como recall precision accuracy f1\n",
    "\n",
    "#split dataset into train and test data\n",
    "X_train, X_test, y_train, y_test = train_test_split(X, y, test_size=0.3, random_state=1, stratify=y)\n",
    "\n",
    "# Create KNN classifier\n",
    "knn = KNeighborsClassifier(n_neighbors = 3)\n",
    "\n",
    "# Fit the classifier to the data\n",
    "knn.fit(X_train,y_train)"
   ]
  },
  {
   "cell_type": "code",
   "execution_count": 47,
   "metadata": {},
   "outputs": [],
   "source": [
    "%%capture\n",
    "from sklearn.metrics import classification_report\n",
    "y_pred = knn.predict(X_test)\n",
    "print(classification_report(y_test,y_pred))\n",
    "\n"
   ]
  },
  {
   "cell_type": "code",
   "execution_count": 48,
   "metadata": {},
   "outputs": [
    {
     "name": "stdout",
     "output_type": "stream",
     "text": [
      "Accuracy of K-NN classifier on training set: 0.42\n",
      "Accuracy of K-NN classifier on test set: 0.18\n"
     ]
    }
   ],
   "source": [
    "#Checking performance on the training set\n",
    "print('Accuracy of K-NN classifier on training set: {:.2f}'\n",
    "     .format(knn.score(X_train, y_train)))\n",
    "#Checking performance on the test set\n",
    "print('Accuracy of K-NN classifier on test set: {:.2f}'\n",
    "     .format(knn.score(X_test, y_test)))\n",
    "\n"
   ]
  },
  {
   "cell_type": "markdown",
   "metadata": {},
   "source": [
    "### A continuación usamos los parámetros encontrados en el GridSearch para español en el hito anterior, siendo alpha = 0.2 y df = 5."
   ]
  },
  {
   "cell_type": "markdown",
   "metadata": {},
   "source": [
    "## NB without Hashtags"
   ]
  },
  {
   "cell_type": "code",
   "execution_count": 50,
   "metadata": {},
   "outputs": [],
   "source": [
    "%%capture\n",
    "from sklearn.naive_bayes import MultinomialNB\n",
    "vectorizer = CountVectorizer(min_df=5)\n",
    "\n",
    "clf = MultinomialNB(alpha=0.2)\n",
    "clf.fit(X_train, y_train)\n",
    "\n",
    "y_pred = clf.predict(X_test)\n",
    "print(classification_report(y_test,y_pred))"
   ]
  },
  {
   "cell_type": "code",
   "execution_count": 51,
   "metadata": {},
   "outputs": [
    {
     "name": "stdout",
     "output_type": "stream",
     "text": [
      "Accuracy of K-NN classifier on training set: 0.42\n",
      "Accuracy of K-NN classifier on test set: 0.18\n"
     ]
    }
   ],
   "source": [
    "#Checking performance on the training set\n",
    "print('Accuracy of K-NN classifier on training set: {:.2f}'\n",
    "     .format(knn.score(X_train, y_train)))\n",
    "#Checking performance on the test set\n",
    "print('Accuracy of K-NN classifier on test set: {:.2f}'\n",
    "     .format(knn.score(X_test, y_test)))\n",
    "\n"
   ]
  },
  {
   "cell_type": "markdown",
   "metadata": {},
   "source": [
    "## KNN with Hashtag"
   ]
  },
  {
   "cell_type": "code",
   "execution_count": 52,
   "metadata": {},
   "outputs": [],
   "source": [
    "%%capture\n",
    "from sklearn.feature_extraction.text import CountVectorizer\n",
    "\n",
    "vectorizer = CountVectorizer()\n",
    "X = vectorizer.fit_transform(df_es_train_filtered['StemmedTokenized_text_as_str'])\n",
    "y = df_es_train_filtered['label']\n",
    "X"
   ]
  },
  {
   "cell_type": "code",
   "execution_count": null,
   "metadata": {},
   "outputs": [
    {
     "data": {
      "text/plain": [
       "KNeighborsClassifier(n_neighbors=3)"
      ]
     },
     "execution_count": 353,
     "metadata": {},
     "output_type": "execute_result"
    }
   ],
   "source": [
    "# entrenar knn con hashtags\n",
    "\n",
    "# comparar metricas como recall precision accuracy f1\n",
    "\n",
    "#split dataset into train and test data\n",
    "X_train, X_test, y_train, y_test = train_test_split(X, y, test_size=0.3, random_state=1, stratify=y)\n",
    "\n",
    "# Create KNN classifier\n",
    "knn = KNeighborsClassifier(n_neighbors = 3)\n",
    "\n",
    "# Fit the classifier to the data\n",
    "knn.fit(X_train,y_train)"
   ]
  },
  {
   "cell_type": "code",
   "execution_count": 53,
   "metadata": {},
   "outputs": [],
   "source": [
    "%%capture\n",
    "from sklearn.metrics import classification_report\n",
    "y_pred = knn.predict(X_test)\n",
    "print(classification_report(y_test,y_pred))"
   ]
  },
  {
   "cell_type": "code",
   "execution_count": null,
   "metadata": {},
   "outputs": [
    {
     "name": "stdout",
     "output_type": "stream",
     "text": [
      "Accuracy of K-NN classifier on training set: 0.44\n",
      "Accuracy of K-NN classifier on test set: 0.20\n"
     ]
    }
   ],
   "source": [
    "#Checking performance on the training set\n",
    "print('Accuracy of K-NN classifier on training set: {:.2f}'\n",
    "     .format(knn.score(X_train, y_train)))\n",
    "#Checking performance on the test set\n",
    "print('Accuracy of K-NN classifier on test set: {:.2f}'\n",
    "     .format(knn.score(X_test, y_test)))\n",
    "\n"
   ]
  },
  {
   "cell_type": "markdown",
   "metadata": {},
   "source": [
    "## NB with Hashtags"
   ]
  },
  {
   "cell_type": "code",
   "execution_count": 54,
   "metadata": {},
   "outputs": [],
   "source": [
    "%%capture\n",
    "vectorizer = CountVectorizer(min_df=5)\n",
    "\n",
    "clf = MultinomialNB(alpha=0.2)\n",
    "clf.fit(X_train, y_train)\n",
    "\n",
    "y_pred = clf.predict(X_test)\n",
    "print(classification_report(y_test,y_pred))"
   ]
  },
  {
   "cell_type": "code",
   "execution_count": null,
   "metadata": {},
   "outputs": [
    {
     "name": "stdout",
     "output_type": "stream",
     "text": [
      "Accuracy of K-NN classifier on training set: 0.44\n",
      "Accuracy of K-NN classifier on test set: 0.20\n"
     ]
    }
   ],
   "source": [
    "#Checking performance on the training set\n",
    "print('Accuracy of K-NN classifier on training set: {:.2f}'\n",
    "     .format(knn.score(X_train, y_train)))\n",
    "#Checking performance on the test set\n",
    "print('Accuracy of K-NN classifier on test set: {:.2f}'\n",
    "     .format(knn.score(X_test, y_test)))\n",
    "\n"
   ]
  },
  {
   "cell_type": "markdown",
   "metadata": {},
   "source": [
    "## KNN only hashtags"
   ]
  },
  {
   "cell_type": "code",
   "execution_count": 55,
   "metadata": {},
   "outputs": [
    {
     "data": {
      "text/plain": [
       "<24025x29354 sparse matrix of type '<class 'numpy.int64'>'\n",
       "\twith 65227 stored elements in Compressed Sparse Row format>"
      ]
     },
     "execution_count": 55,
     "metadata": {},
     "output_type": "execute_result"
    }
   ],
   "source": [
    "from sklearn.feature_extraction.text import CountVectorizer\n",
    "\n",
    "vectorizer = CountVectorizer()\n",
    "X = vectorizer.fit_transform(df_es_train_filtered['hashtags_as_str'])\n",
    "y = df_es_train_filtered['label']\n",
    "X"
   ]
  },
  {
   "cell_type": "code",
   "execution_count": 56,
   "metadata": {},
   "outputs": [
    {
     "data": {
      "text/plain": [
       "KNeighborsClassifier(n_neighbors=3)"
      ]
     },
     "execution_count": 56,
     "metadata": {},
     "output_type": "execute_result"
    }
   ],
   "source": [
    "# entrenar knn con hashtags\n",
    "\n",
    "\n",
    "# comparar metricas como recall precision accuracy f1\n",
    "\n",
    "#split dataset into train and test data\n",
    "X_train, X_test, y_train, y_test = train_test_split(X, y, test_size=0.3, random_state=1, stratify=y)\n",
    "\n",
    "# Create KNN classifier\n",
    "knn = KNeighborsClassifier(n_neighbors = 3)\n",
    "\n",
    "# Fit the classifier to the data\n",
    "knn.fit(X_train,y_train)"
   ]
  },
  {
   "cell_type": "code",
   "execution_count": 57,
   "metadata": {},
   "outputs": [],
   "source": [
    "%%capture\n",
    "from sklearn.metrics import classification_report\n",
    "y_pred = knn.predict(X_test)\n",
    "print(classification_report(y_test,y_pred))"
   ]
  },
  {
   "cell_type": "code",
   "execution_count": 58,
   "metadata": {},
   "outputs": [
    {
     "name": "stdout",
     "output_type": "stream",
     "text": [
      "Accuracy of K-NN classifier on training set: 0.43\n",
      "Accuracy of K-NN classifier on test set: 0.21\n"
     ]
    }
   ],
   "source": [
    "#Checking performance on the training set\n",
    "print('Accuracy of K-NN classifier on training set: {:.2f}'\n",
    "     .format(knn.score(X_train, y_train)))\n",
    "#Checking performance on the test set\n",
    "print('Accuracy of K-NN classifier on test set: {:.2f}'\n",
    "     .format(knn.score(X_test, y_test)))"
   ]
  },
  {
   "cell_type": "markdown",
   "metadata": {},
   "source": [
    "## NB only Hashtags"
   ]
  },
  {
   "cell_type": "code",
   "execution_count": 59,
   "metadata": {},
   "outputs": [],
   "source": [
    "%%capture\n",
    "vectorizer = CountVectorizer(min_df=5)\n",
    "\n",
    "clf = MultinomialNB(alpha=0.2)\n",
    "clf.fit(X_train, y_train)\n",
    "\n",
    "y_pred = clf.predict(X_test)\n",
    "print(classification_report(y_test,y_pred))"
   ]
  },
  {
   "cell_type": "code",
   "execution_count": 60,
   "metadata": {},
   "outputs": [
    {
     "name": "stdout",
     "output_type": "stream",
     "text": [
      "Accuracy of K-NN classifier on training set: 0.43\n",
      "Accuracy of K-NN classifier on test set: 0.21\n"
     ]
    }
   ],
   "source": [
    "#Checking performance on the training set\n",
    "print('Accuracy of K-NN classifier on training set: {:.2f}'\n",
    "     .format(knn.score(X_train, y_train)))\n",
    "#Checking performance on the test set\n",
    "print('Accuracy of K-NN classifier on test set: {:.2f}'\n",
    "     .format(knn.score(X_test, y_test)))\n",
    "\n"
   ]
  },
  {
   "cell_type": "markdown",
   "metadata": {},
   "source": [
    "## Histograma KNN"
   ]
  },
  {
   "cell_type": "code",
   "execution_count": 61,
   "metadata": {},
   "outputs": [
    {
     "data": {
      "text/html": [
       "<div>\n",
       "<style scoped>\n",
       "    .dataframe tbody tr th:only-of-type {\n",
       "        vertical-align: middle;\n",
       "    }\n",
       "\n",
       "    .dataframe tbody tr th {\n",
       "        vertical-align: top;\n",
       "    }\n",
       "\n",
       "    .dataframe thead th {\n",
       "        text-align: right;\n",
       "    }\n",
       "</style>\n",
       "<table border=\"1\" class=\"dataframe\">\n",
       "  <thead>\n",
       "    <tr style=\"text-align: right;\">\n",
       "      <th></th>\n",
       "      <th>Atribute</th>\n",
       "      <th>KNN_w_hashtags</th>\n",
       "      <th>KNN_only_hashtags</th>\n",
       "      <th>KNN_wo_hashtags</th>\n",
       "    </tr>\n",
       "  </thead>\n",
       "  <tbody>\n",
       "    <tr>\n",
       "      <th>0</th>\n",
       "      <td>precision</td>\n",
       "      <td>0.22</td>\n",
       "      <td>0.18</td>\n",
       "      <td>0.12</td>\n",
       "    </tr>\n",
       "    <tr>\n",
       "      <th>1</th>\n",
       "      <td>recall</td>\n",
       "      <td>0.08</td>\n",
       "      <td>0.09</td>\n",
       "      <td>0.08</td>\n",
       "    </tr>\n",
       "    <tr>\n",
       "      <th>2</th>\n",
       "      <td>f1-score</td>\n",
       "      <td>0.08</td>\n",
       "      <td>0.09</td>\n",
       "      <td>0.07</td>\n",
       "    </tr>\n",
       "    <tr>\n",
       "      <th>3</th>\n",
       "      <td>accuracy train_set</td>\n",
       "      <td>0.44</td>\n",
       "      <td>0.43</td>\n",
       "      <td>0.42</td>\n",
       "    </tr>\n",
       "    <tr>\n",
       "      <th>4</th>\n",
       "      <td>accuracy test_set</td>\n",
       "      <td>0.20</td>\n",
       "      <td>0.21</td>\n",
       "      <td>0.18</td>\n",
       "    </tr>\n",
       "  </tbody>\n",
       "</table>\n",
       "</div>"
      ],
      "text/plain": [
       "             Atribute  KNN_w_hashtags  KNN_only_hashtags  KNN_wo_hashtags\n",
       "0           precision            0.22               0.18             0.12\n",
       "1              recall            0.08               0.09             0.08\n",
       "2            f1-score            0.08               0.09             0.07\n",
       "3  accuracy train_set            0.44               0.43             0.42\n",
       "4   accuracy test_set            0.20               0.21             0.18"
      ]
     },
     "execution_count": 61,
     "metadata": {},
     "output_type": "execute_result"
    }
   ],
   "source": [
    "%matplotlib inline\n",
    "import pandas\n",
    "import numpy as np\n",
    "import matplotlib.pyplot as plt\n",
    "import pandas\n",
    "#import seaborn\n",
    "#seaborn.set(style='ticks')\n",
    "\n",
    "df_knn=pd.DataFrame()\n",
    "df_knn['Atribute'] = ['precision', 'recall', 'f1-score', 'accuracy train_set', 'accuracy test_set']\n",
    "df_knn['KNN_w_hashtags'] = [0.22, 0.08, 0.08, 0.44, 0.20]\n",
    "df_knn['KNN_only_hashtags'] = [0.18, 0.09, 0.09, 0.43, 0.21]\n",
    "df_knn['KNN_wo_hashtags'] = [0.12, 0.08, 0.07, 0.42, 0.18]\n",
    " \n",
    "df_knn\n"
   ]
  },
  {
   "cell_type": "code",
   "execution_count": 62,
   "metadata": {},
   "outputs": [
    {
     "data": {
      "text/plain": [
       "<AxesSubplot:xlabel='Atribute'>"
      ]
     },
     "execution_count": 62,
     "metadata": {},
     "output_type": "execute_result"
    },
    {
     "data": {
      "image/png": "[encoded data removed]",
      "text/plain": [
       "<Figure size 864x288 with 1 Axes>"
      ]
     },
     "metadata": {
      "needs_background": "light"
     },
     "output_type": "display_data"
    }
   ],
   "source": [
    "\n",
    "df_knn.plot.bar(x='Atribute',figsize=(12,4), width=0.25)\n"
   ]
  },
  {
   "cell_type": "markdown",
   "metadata": {},
   "source": [
    "## Multinomial NB Histograma"
   ]
  },
  {
   "cell_type": "code",
   "execution_count": 63,
   "metadata": {},
   "outputs": [
    {
     "data": {
      "text/html": [
       "<div>\n",
       "<style scoped>\n",
       "    .dataframe tbody tr th:only-of-type {\n",
       "        vertical-align: middle;\n",
       "    }\n",
       "\n",
       "    .dataframe tbody tr th {\n",
       "        vertical-align: top;\n",
       "    }\n",
       "\n",
       "    .dataframe thead th {\n",
       "        text-align: right;\n",
       "    }\n",
       "</style>\n",
       "<table border=\"1\" class=\"dataframe\">\n",
       "  <thead>\n",
       "    <tr style=\"text-align: right;\">\n",
       "      <th></th>\n",
       "      <th>Atribute</th>\n",
       "      <th>Mult_NB_w_hashtags</th>\n",
       "      <th>Mult_NB_only_hashtags</th>\n",
       "      <th>Mult_NB_wo_hashtags</th>\n",
       "    </tr>\n",
       "  </thead>\n",
       "  <tbody>\n",
       "    <tr>\n",
       "      <th>0</th>\n",
       "      <td>precision</td>\n",
       "      <td>0.18</td>\n",
       "      <td>0.24</td>\n",
       "      <td>0.15</td>\n",
       "    </tr>\n",
       "    <tr>\n",
       "      <th>1</th>\n",
       "      <td>recall</td>\n",
       "      <td>0.16</td>\n",
       "      <td>0.14</td>\n",
       "      <td>0.12</td>\n",
       "    </tr>\n",
       "    <tr>\n",
       "      <th>2</th>\n",
       "      <td>f1-score</td>\n",
       "      <td>0.15</td>\n",
       "      <td>0.14</td>\n",
       "      <td>0.12</td>\n",
       "    </tr>\n",
       "    <tr>\n",
       "      <th>3</th>\n",
       "      <td>accuracy train_set</td>\n",
       "      <td>0.44</td>\n",
       "      <td>0.43</td>\n",
       "      <td>0.42</td>\n",
       "    </tr>\n",
       "    <tr>\n",
       "      <th>4</th>\n",
       "      <td>accuracy test_set</td>\n",
       "      <td>0.20</td>\n",
       "      <td>0.21</td>\n",
       "      <td>0.18</td>\n",
       "    </tr>\n",
       "  </tbody>\n",
       "</table>\n",
       "</div>"
      ],
      "text/plain": [
       "             Atribute  Mult_NB_w_hashtags  Mult_NB_only_hashtags  \\\n",
       "0           precision                0.18                   0.24   \n",
       "1              recall                0.16                   0.14   \n",
       "2            f1-score                0.15                   0.14   \n",
       "3  accuracy train_set                0.44                   0.43   \n",
       "4   accuracy test_set                0.20                   0.21   \n",
       "\n",
       "   Mult_NB_wo_hashtags  \n",
       "0                 0.15  \n",
       "1                 0.12  \n",
       "2                 0.12  \n",
       "3                 0.42  \n",
       "4                 0.18  "
      ]
     },
     "execution_count": 63,
     "metadata": {},
     "output_type": "execute_result"
    }
   ],
   "source": [
    "%matplotlib inline\n",
    "import numpy as np\n",
    "import matplotlib.pyplot as plt\n",
    "import pandas\n",
    "#import seaborn\n",
    "#seaborn.set(style='ticks')\n",
    "\n",
    "df=pd.DataFrame()\n",
    "df['Atribute'] = ['precision', 'recall', 'f1-score','accuracy train_set', 'accuracy test_set']\n",
    "df['Mult_NB_w_hashtags'] = [0.18, 0.16, 0.15, 0.44, 0.20]\n",
    "df['Mult_NB_only_hashtags'] = [0.24, 0.14, 0.14, 0.43, 0.21]\n",
    "df['Mult_NB_wo_hashtags'] = [0.15,      0.12,      0.12, 0.42, 0.18]\n",
    " \n",
    "df\n"
   ]
  },
  {
   "cell_type": "code",
   "execution_count": 64,
   "metadata": {},
   "outputs": [
    {
     "data": {
      "text/plain": [
       "<AxesSubplot:xlabel='Atribute'>"
      ]
     },
     "execution_count": 64,
     "metadata": {},
     "output_type": "execute_result"
    },
    {
     "data": {
      "image/png": "[encoded data removed]",
      "text/plain": [
       "<Figure size 864x360 with 1 Axes>"
      ]
     },
     "metadata": {
      "needs_background": "light"
     },
     "output_type": "display_data"
    }
   ],
   "source": [
    "\n",
    "df.plot.bar(x='Atribute',figsize=(12,5), width=0.25)\n"
   ]
  },
  {
   "cell_type": "markdown",
   "metadata": {},
   "source": [
    "Al analizar los valores obtenidos de las metricas para cada base de datos (texto con hashtags, solo hashtags y texto sin hashtags) con un clasificador KNN y un Naive-Bayes, podemos observar que a grandes rasgos sí se cumple la hipótesis establecida en un comienzo, y es que los hashtags son más utiles a la hora de predecir un emoji. Los resultados obtenidos varían dependiendo con del clasificador, ya que para KNN obtenemos que la base con mayor f1-score es aquella que incluye solo el contenido de los hashtags, lo que tiene sentido y va acorde con nuestros supuestos, seguido de la base con el texto del tweet y los hashtags y finalmente el contentido de los tweets sin los hashtags. \n",
    "\n",
    "Para el clasificador Naive-Bayes, obtenemos un resultado similar, pero para este caso la base que contiene ambos texto del tweet y sus hashtags es quella que presenta un f1-scores más alto, seguido luego por la base que tiene solo los hasthags y finalmente solo el texto de los tweets sin hashtagas.  \n",
    "\n",
    "Es muyu importante recalcar que para ambos clasificadores, la base de datos que obtuvo el peor resultado a la hora de entrenar el modelo, fue aquella que no incluía los hashtags, siendo en ambos casos peor incluso que aquella que solo contenia los hashtags. En una primera instancia esto podría parecer extraño dado que la base sin hashtags tiene mucho más contenido por tweet lo que nos permitiría pensar que sería mejor para entrenar un modelo, pero ahora bien, los hashtags tienen esa finalidad de ser palabras claves para marcar el contenido que se comparte a través de redes sociales, por lo que si es relativamente lógico que por sí solos permitan tener mejores resultados a la hora de predecir emojis. Finalmente se puede concluir que, al menos para el idioma español, se valida la hipótesis presentada en un inicio. "
   ]
  },
  {
   "cell_type": "markdown",
   "metadata": {},
   "source": [
    "## Tweets en Inglés\n",
    "\n",
    "Para este caso el procedimiento es análogo al anterior, por lo que no se realizarán prints de las bases de datos y solo se mostrarán los resultados finales obtenidos. "
   ]
  },
  {
   "cell_type": "code",
   "execution_count": 65,
   "metadata": {},
   "outputs": [],
   "source": [
    "%%capture\n",
    "%%time\n",
    "df_us_train['tokenized_text'] = df_us_train['text'].str.lower().apply(tt.tokenize) \n",
    "df_us_train.head()"
   ]
  },
  {
   "cell_type": "code",
   "execution_count": 66,
   "metadata": {},
   "outputs": [
    {
     "name": "stderr",
     "output_type": "stream",
     "text": [
      "[nltk_data] Downloading package stopwords to C:\\Users\\Gianluca\n",
      "[nltk_data]     Musso\\AppData\\Roaming\\nltk_data...\n",
      "[nltk_data]   Package stopwords is already up-to-date!\n"
     ]
    }
   ],
   "source": [
    "%%capture\n",
    "nltk.download('stopwords')\n",
    "from nltk.corpus import stopwords\n",
    "\n",
    "stopwords_es = stopwords.words('english')\n",
    "print(stopwords_es[:10])"
   ]
  },
  {
   "cell_type": "code",
   "execution_count": 67,
   "metadata": {},
   "outputs": [],
   "source": [
    "%%capture\n",
    "from string import punctuation\n",
    "stopwords_us_withpunct = set(stopwords_es).union(set(punctuation))\n",
    "print(list(stopwords_es_withpunct)[:10])"
   ]
  },
  {
   "cell_type": "code",
   "execution_count": 68,
   "metadata": {},
   "outputs": [],
   "source": [
    "%%capture\n",
    "df_us_train['tokenized_text'] = df_us_train['tokenized_text'].apply(lambda x: [word for word in x if word not in (stopwords_es_withpunct)])\n",
    "df_us_train[\"length tokenized\"] = df_us_train['tokenized_text'].apply(len)\n",
    "df_us_train.head()"
   ]
  },
  {
   "cell_type": "code",
   "execution_count": 69,
   "metadata": {},
   "outputs": [],
   "source": [
    "from nltk.stem import PorterStemmer\n",
    "\n",
    "# puede ser porter o wnl\n",
    "porter = PorterStemmer()\n",
    "wnl = WordNetLemmatizer()"
   ]
  },
  {
   "cell_type": "code",
   "execution_count": 70,
   "metadata": {},
   "outputs": [],
   "source": [
    "%%capture\n",
    "%%time\n",
    "df_us_train['StemmedTokenized_text'] = df_us_train['tokenized_text'].apply(lambda x: [porter.stem(word) for word in x])"
   ]
  },
  {
   "cell_type": "code",
   "execution_count": 71,
   "metadata": {},
   "outputs": [],
   "source": [
    "%%capture\n",
    "df_us_train.head()"
   ]
  },
  {
   "cell_type": "code",
   "execution_count": 72,
   "metadata": {},
   "outputs": [
    {
     "data": {
      "text/html": [
       "<div>\n",
       "<style scoped>\n",
       "    .dataframe tbody tr th:only-of-type {\n",
       "        vertical-align: middle;\n",
       "    }\n",
       "\n",
       "    .dataframe tbody tr th {\n",
       "        vertical-align: top;\n",
       "    }\n",
       "\n",
       "    .dataframe thead th {\n",
       "        text-align: right;\n",
       "    }\n",
       "</style>\n",
       "<table border=\"1\" class=\"dataframe\">\n",
       "  <thead>\n",
       "    <tr style=\"text-align: right;\">\n",
       "      <th></th>\n",
       "      <th>text</th>\n",
       "    </tr>\n",
       "  </thead>\n",
       "  <tbody>\n",
       "    <tr>\n",
       "      <th>1</th>\n",
       "      <td>[hailstate, ily, roomie, 2years]</td>\n",
       "    </tr>\n",
       "    <tr>\n",
       "      <th>2</th>\n",
       "      <td>[scored, matcotools, slidehammer, bodymen, ilo...</td>\n",
       "    </tr>\n",
       "    <tr>\n",
       "      <th>5</th>\n",
       "      <td>[SOULGANG, 65]</td>\n",
       "    </tr>\n",
       "    <tr>\n",
       "      <th>9</th>\n",
       "      <td>[bigbearbruh]</td>\n",
       "    </tr>\n",
       "    <tr>\n",
       "      <th>10</th>\n",
       "      <td>[LexusUX, ConceptCar, naias2017]</td>\n",
       "    </tr>\n",
       "    <tr>\n",
       "      <th>...</th>\n",
       "      <td>...</td>\n",
       "    </tr>\n",
       "    <tr>\n",
       "      <th>387283</th>\n",
       "      <td>[photographer, olympusomd10markii]</td>\n",
       "    </tr>\n",
       "    <tr>\n",
       "      <th>387285</th>\n",
       "      <td>[runningmanchallenge]</td>\n",
       "    </tr>\n",
       "    <tr>\n",
       "      <th>387287</th>\n",
       "      <td>[Seattle, spaceneedle, nictayseatac, vacation,...</td>\n",
       "    </tr>\n",
       "    <tr>\n",
       "      <th>387290</th>\n",
       "      <td>[FamtasyFridsysATL, PullUp]</td>\n",
       "    </tr>\n",
       "    <tr>\n",
       "      <th>387291</th>\n",
       "      <td>[Duluth, Minnesota, Minnesnowta]</td>\n",
       "    </tr>\n",
       "  </tbody>\n",
       "</table>\n",
       "<p>161245 rows × 1 columns</p>\n",
       "</div>"
      ],
      "text/plain": [
       "                                                     text\n",
       "1                        [hailstate, ily, roomie, 2years]\n",
       "2       [scored, matcotools, slidehammer, bodymen, ilo...\n",
       "5                                          [SOULGANG, 65]\n",
       "9                                           [bigbearbruh]\n",
       "10                       [LexusUX, ConceptCar, naias2017]\n",
       "...                                                   ...\n",
       "387283                 [photographer, olympusomd10markii]\n",
       "387285                              [runningmanchallenge]\n",
       "387287  [Seattle, spaceneedle, nictayseatac, vacation,...\n",
       "387290                        [FamtasyFridsysATL, PullUp]\n",
       "387291                   [Duluth, Minnesota, Minnesnowta]\n",
       "\n",
       "[161245 rows x 1 columns]"
      ]
     },
     "execution_count": 72,
     "metadata": {},
     "output_type": "execute_result"
    }
   ],
   "source": [
    "# Obtener el contenido de los hashtags de cada tweet del df ya filtrado\n",
    "import re \n",
    "df_us_only_hashtags = pd.DataFrame()\n",
    "df_us_only_hashtags['text']=df_us_train['text'].apply(lambda x: re.findall(r\"#(\\w+)\", x))\n",
    "df_us_only_hashtags[df_us_only_hashtags['text'].apply(lambda d: len(d)) > 0]\n"
   ]
  },
  {
   "cell_type": "code",
   "execution_count": 73,
   "metadata": {},
   "outputs": [],
   "source": [
    "%%capture\n",
    "# este es el dataset de train completo filtrado con solo los tweets que tienen hashtag\n",
    "df_us_train_filtered = df_us_train[df_us_only_hashtags['text'].apply(lambda d: len(d)) > 0]\n",
    "df_us_train_filtered['hashtags'] = df_us_only_hashtags['text']\n",
    "\n",
    "df_us_train_filtered\n"
   ]
  },
  {
   "cell_type": "code",
   "execution_count": 74,
   "metadata": {},
   "outputs": [],
   "source": [
    "%%capture\n",
    "# se agrega al train las columnas tokenizadas con y sin hashtags\n",
    "df_us_train_filtered['StemmedTokenized_text_wo_hashtag'] = df_us_train_filtered['StemmedTokenized_text'].apply(lambda li: [word for word in li if not word.startswith('#')])\n",
    "df_us_train_filtered"
   ]
  },
  {
   "cell_type": "code",
   "execution_count": 75,
   "metadata": {},
   "outputs": [],
   "source": [
    "%%capture\n",
    "df_us_train_filtered['StemmedTokenized_text_as_str'] = df_us_train_filtered['StemmedTokenized_text'].astype(object).apply(lambda x: ' '.join([str(i) for i in x]))\n",
    "df_us_train_filtered['StemmedTokenized_text_wo_hashtag_as_str'] = df_us_train_filtered['StemmedTokenized_text_wo_hashtag'].astype(object).apply(lambda x: ' '.join([str(i) for i in x]))\n",
    "df_us_train_filtered['hashtags_as_str'] = df_us_train_filtered['hashtags'].astype(object).apply(lambda x: ' '.join([str(i) for i in x]))"
   ]
  },
  {
   "cell_type": "code",
   "execution_count": 76,
   "metadata": {},
   "outputs": [
    {
     "data": {
      "text/html": [
       "<div>\n",
       "<style scoped>\n",
       "    .dataframe tbody tr th:only-of-type {\n",
       "        vertical-align: middle;\n",
       "    }\n",
       "\n",
       "    .dataframe tbody tr th {\n",
       "        vertical-align: top;\n",
       "    }\n",
       "\n",
       "    .dataframe thead th {\n",
       "        text-align: right;\n",
       "    }\n",
       "</style>\n",
       "<table border=\"1\" class=\"dataframe\">\n",
       "  <thead>\n",
       "    <tr style=\"text-align: right;\">\n",
       "      <th></th>\n",
       "      <th>id</th>\n",
       "      <th>text</th>\n",
       "      <th>label</th>\n",
       "      <th>tokenized_text</th>\n",
       "      <th>length tokenized</th>\n",
       "      <th>StemmedTokenized_text</th>\n",
       "      <th>hashtags</th>\n",
       "      <th>StemmedTokenized_text_wo_hashtag</th>\n",
       "      <th>StemmedTokenized_text_as_str</th>\n",
       "      <th>StemmedTokenized_text_wo_hashtag_as_str</th>\n",
       "      <th>hashtags_as_str</th>\n",
       "    </tr>\n",
       "  </thead>\n",
       "  <tbody>\n",
       "    <tr>\n",
       "      <th>1</th>\n",
       "      <td>663834134037442560</td>\n",
       "      <td>Ready to be a bulldog with rasso #hailstate #i...</td>\n",
       "      <td>14</td>\n",
       "      <td>[ready, to, be, bulldog, with, rasso, #hailsta...</td>\n",
       "      <td>14</td>\n",
       "      <td>[readi, to, be, bulldog, with, rasso, #hailsta...</td>\n",
       "      <td>[hailstate, ily, roomie, 2years]</td>\n",
       "      <td>[readi, to, be, bulldog, with, rasso, mississi...</td>\n",
       "      <td>readi to be bulldog with rasso #hailstat #ili ...</td>\n",
       "      <td>readi to be bulldog with rasso mississippi sta...</td>\n",
       "      <td>hailstate ily roomie 2years</td>\n",
       "    </tr>\n",
       "    <tr>\n",
       "      <th>2</th>\n",
       "      <td>747449193350963200</td>\n",
       "      <td>#scored my new #matcotools #slidehammer weight...</td>\n",
       "      <td>16</td>\n",
       "      <td>[#scored, my, new, #matcotools, #slidehammer, ...</td>\n",
       "      <td>14</td>\n",
       "      <td>[#score, my, new, #matcotool, #slidehamm, weig...</td>\n",
       "      <td>[scored, matcotools, slidehammer, bodymen, ilo...</td>\n",
       "      <td>[my, new, weight, all, the, swear, by, it, …]</td>\n",
       "      <td>#score my new #matcotool #slidehamm weight all...</td>\n",
       "      <td>my new weight all the swear by it …</td>\n",
       "      <td>scored matcotools slidehammer bodymen iloveit</td>\n",
       "    </tr>\n",
       "    <tr>\n",
       "      <th>5</th>\n",
       "      <td>739763386783813632</td>\n",
       "      <td>She's Not For You.. | #SOULGANG Custom T #65 /…</td>\n",
       "      <td>10</td>\n",
       "      <td>[she's, not, for, you, .., #soulgang, custom, ...</td>\n",
       "      <td>10</td>\n",
       "      <td>[she', not, for, you, .., #soulgang, custom, t...</td>\n",
       "      <td>[SOULGANG, 65]</td>\n",
       "      <td>[she', not, for, you, .., custom, t, …]</td>\n",
       "      <td>she' not for you .. #soulgang custom t #65 …</td>\n",
       "      <td>she' not for you .. custom t …</td>\n",
       "      <td>SOULGANG 65</td>\n",
       "    </tr>\n",
       "    <tr>\n",
       "      <th>9</th>\n",
       "      <td>677789847302610944</td>\n",
       "      <td>All american at all times // @user // @user ge...</td>\n",
       "      <td>11</td>\n",
       "      <td>[all, american, at, all, times, @user, @user, ...</td>\n",
       "      <td>14</td>\n",
       "      <td>[all, american, at, all, time, @user, @user, g...</td>\n",
       "      <td>[bigbearbruh]</td>\n",
       "      <td>[all, american, at, all, time, @user, @user, g...</td>\n",
       "      <td>all american at all time @user @user getaway #...</td>\n",
       "      <td>all american at all time @user @user getaway 森...</td>\n",
       "      <td>bigbearbruh</td>\n",
       "    </tr>\n",
       "    <tr>\n",
       "      <th>10</th>\n",
       "      <td>818547203832680450</td>\n",
       "      <td>Tread love. The #LexusUX #ConceptCar @user #na...</td>\n",
       "      <td>10</td>\n",
       "      <td>[tread, love, the, #lexusux, #conceptcar, @use...</td>\n",
       "      <td>10</td>\n",
       "      <td>[tread, love, the, #lexusux, #conceptcar, @use...</td>\n",
       "      <td>[LexusUX, ConceptCar, naias2017]</td>\n",
       "      <td>[tread, love, the, @user, cobo, center, detroit]</td>\n",
       "      <td>tread love the #lexusux #conceptcar @user #nai...</td>\n",
       "      <td>tread love the @user cobo center detroit</td>\n",
       "      <td>LexusUX ConceptCar naias2017</td>\n",
       "    </tr>\n",
       "  </tbody>\n",
       "</table>\n",
       "</div>"
      ],
      "text/plain": [
       "                    id                                               text  \\\n",
       "1   663834134037442560  Ready to be a bulldog with rasso #hailstate #i...   \n",
       "2   747449193350963200  #scored my new #matcotools #slidehammer weight...   \n",
       "5   739763386783813632   She's Not For You.. | #SOULGANG Custom T #65 /…    \n",
       "9   677789847302610944  All american at all times // @user // @user ge...   \n",
       "10  818547203832680450  Tread love. The #LexusUX #ConceptCar @user #na...   \n",
       "\n",
       "   label                                     tokenized_text  length tokenized  \\\n",
       "1     14  [ready, to, be, bulldog, with, rasso, #hailsta...                14   \n",
       "2     16  [#scored, my, new, #matcotools, #slidehammer, ...                14   \n",
       "5     10  [she's, not, for, you, .., #soulgang, custom, ...                10   \n",
       "9     11  [all, american, at, all, times, @user, @user, ...                14   \n",
       "10    10  [tread, love, the, #lexusux, #conceptcar, @use...                10   \n",
       "\n",
       "                                StemmedTokenized_text  \\\n",
       "1   [readi, to, be, bulldog, with, rasso, #hailsta...   \n",
       "2   [#score, my, new, #matcotool, #slidehamm, weig...   \n",
       "5   [she', not, for, you, .., #soulgang, custom, t...   \n",
       "9   [all, american, at, all, time, @user, @user, g...   \n",
       "10  [tread, love, the, #lexusux, #conceptcar, @use...   \n",
       "\n",
       "                                             hashtags  \\\n",
       "1                    [hailstate, ily, roomie, 2years]   \n",
       "2   [scored, matcotools, slidehammer, bodymen, ilo...   \n",
       "5                                      [SOULGANG, 65]   \n",
       "9                                       [bigbearbruh]   \n",
       "10                   [LexusUX, ConceptCar, naias2017]   \n",
       "\n",
       "                     StemmedTokenized_text_wo_hashtag  \\\n",
       "1   [readi, to, be, bulldog, with, rasso, mississi...   \n",
       "2       [my, new, weight, all, the, swear, by, it, …]   \n",
       "5             [she', not, for, you, .., custom, t, …]   \n",
       "9   [all, american, at, all, time, @user, @user, g...   \n",
       "10   [tread, love, the, @user, cobo, center, detroit]   \n",
       "\n",
       "                         StemmedTokenized_text_as_str  \\\n",
       "1   readi to be bulldog with rasso #hailstat #ili ...   \n",
       "2   #score my new #matcotool #slidehamm weight all...   \n",
       "5        she' not for you .. #soulgang custom t #65 …   \n",
       "9   all american at all time @user @user getaway #...   \n",
       "10  tread love the #lexusux #conceptcar @user #nai...   \n",
       "\n",
       "              StemmedTokenized_text_wo_hashtag_as_str  \\\n",
       "1   readi to be bulldog with rasso mississippi sta...   \n",
       "2                 my new weight all the swear by it …   \n",
       "5                      she' not for you .. custom t …   \n",
       "9   all american at all time @user @user getaway 森...   \n",
       "10           tread love the @user cobo center detroit   \n",
       "\n",
       "                                  hashtags_as_str  \n",
       "1                     hailstate ily roomie 2years  \n",
       "2   scored matcotools slidehammer bodymen iloveit  \n",
       "5                                     SOULGANG 65  \n",
       "9                                     bigbearbruh  \n",
       "10                   LexusUX ConceptCar naias2017  "
      ]
     },
     "execution_count": 76,
     "metadata": {},
     "output_type": "execute_result"
    }
   ],
   "source": [
    "df_us_train_filtered.head()"
   ]
  },
  {
   "cell_type": "markdown",
   "metadata": {},
   "source": [
    "## KNN without Hashtag"
   ]
  },
  {
   "cell_type": "code",
   "execution_count": 77,
   "metadata": {},
   "outputs": [
    {
     "data": {
      "text/plain": [
       "<161245x58296 sparse matrix of type '<class 'numpy.int64'>'\n",
       "\twith 1222087 stored elements in Compressed Sparse Row format>"
      ]
     },
     "execution_count": 77,
     "metadata": {},
     "output_type": "execute_result"
    }
   ],
   "source": [
    "from sklearn.feature_extraction.text import CountVectorizer\n",
    "\n",
    "vectorizer = CountVectorizer()\n",
    "X = vectorizer.fit_transform(df_us_train_filtered['StemmedTokenized_text_wo_hashtag_as_str'])\n",
    "y = df_us_train_filtered['label']\n",
    "X"
   ]
  },
  {
   "cell_type": "code",
   "execution_count": 78,
   "metadata": {},
   "outputs": [
    {
     "data": {
      "text/plain": [
       "KNeighborsClassifier(n_neighbors=3)"
      ]
     },
     "execution_count": 78,
     "metadata": {},
     "output_type": "execute_result"
    }
   ],
   "source": [
    "# entrenar knn con hashtags\n",
    "\n",
    "# comparar metricas como recall precision accuracy f1\n",
    "\n",
    "#split dataset into train and test data\n",
    "X_train, X_test, y_train, y_test = train_test_split(X, y, test_size=0.3, random_state=1, stratify=y)\n",
    "\n",
    "# Create KNN classifier\n",
    "knn = KNeighborsClassifier(n_neighbors = 3)\n",
    "\n",
    "# Fit the classifier to the data\n",
    "knn.fit(X_train,y_train)"
   ]
  },
  {
   "cell_type": "code",
   "execution_count": 79,
   "metadata": {},
   "outputs": [],
   "source": [
    "%%capture\n",
    "from sklearn.metrics import classification_report\n",
    "y_pred = knn.predict(X_test)\n",
    "print(classification_report(y_test,y_pred))\n",
    "\n"
   ]
  },
  {
   "cell_type": "code",
   "execution_count": 80,
   "metadata": {},
   "outputs": [
    {
     "name": "stdout",
     "output_type": "stream",
     "text": [
      "Accuracy of K-NN classifier on training set: 0.45\n",
      "Accuracy of K-NN classifier on test set: 0.21\n"
     ]
    }
   ],
   "source": [
    "#Checking performance on the training set\n",
    "print('Accuracy of K-NN classifier on training set: {:.2f}'\n",
    "     .format(knn.score(X_train, y_train)))\n",
    "#Checking performance on the test set\n",
    "print('Accuracy of K-NN classifier on test set: {:.2f}'\n",
    "     .format(knn.score(X_test, y_test)))\n",
    "\n"
   ]
  },
  {
   "cell_type": "markdown",
   "metadata": {},
   "source": [
    "A continuación usamos los parámetros encontrados en el GridSearch para español en el hito anterior, siendo alpha = 0.2 y df = 10."
   ]
  },
  {
   "cell_type": "markdown",
   "metadata": {},
   "source": [
    "## NB without Hashtags"
   ]
  },
  {
   "cell_type": "code",
   "execution_count": 81,
   "metadata": {},
   "outputs": [],
   "source": [
    "%%capture\n",
    "vectorizer = CountVectorizer(min_df=10)\n",
    "\n",
    "clf = MultinomialNB(alpha=0.2)\n",
    "clf.fit(X_train, y_train)\n",
    "\n",
    "y_pred = clf.predict(X_test)\n",
    "print(classification_report(y_test,y_pred))"
   ]
  },
  {
   "cell_type": "code",
   "execution_count": null,
   "metadata": {},
   "outputs": [
    {
     "name": "stdout",
     "output_type": "stream",
     "text": [
      "Accuracy of K-NN classifier on training set: 0.45\n",
      "Accuracy of K-NN classifier on test set: 0.21\n"
     ]
    }
   ],
   "source": [
    "#Checking performance on the training set\n",
    "print('Accuracy of K-NN classifier on training set: {:.2f}'\n",
    "     .format(knn.score(X_train, y_train)))\n",
    "#Checking performance on the test set\n",
    "print('Accuracy of K-NN classifier on test set: {:.2f}'\n",
    "     .format(knn.score(X_test, y_test)))\n",
    "\n"
   ]
  },
  {
   "cell_type": "markdown",
   "metadata": {},
   "source": [
    "## KNN with Hashtag"
   ]
  },
  {
   "cell_type": "code",
   "execution_count": 83,
   "metadata": {},
   "outputs": [],
   "source": [
    "%%capture\n",
    "from sklearn.feature_extraction.text import CountVectorizer\n",
    "\n",
    "vectorizer = CountVectorizer()\n",
    "X = vectorizer.fit_transform(df_us_train_filtered['StemmedTokenized_text_as_str'])\n",
    "y = df_us_train_filtered['label']\n",
    "X"
   ]
  },
  {
   "cell_type": "code",
   "execution_count": 84,
   "metadata": {},
   "outputs": [],
   "source": [
    "%%capture\n",
    "# entrenar knn con hashtags\n",
    "\n",
    "# comparar metricas como recall precision accuracy f1\n",
    "\n",
    "#split dataset into train and test data\n",
    "X_train, X_test, y_train, y_test = train_test_split(X, y, test_size=0.3, random_state=1, stratify=y)\n",
    "\n",
    "# Create KNN classifier\n",
    "knn = KNeighborsClassifier(n_neighbors = 3)\n",
    "\n",
    "# Fit the classifier to the data\n",
    "knn.fit(X_train,y_train)"
   ]
  },
  {
   "cell_type": "code",
   "execution_count": 85,
   "metadata": {},
   "outputs": [],
   "source": [
    "%%capture\n",
    "from sklearn.metrics import classification_report\n",
    "y_pred = knn.predict(X_test)\n",
    "print(classification_report(y_test,y_pred))"
   ]
  },
  {
   "cell_type": "code",
   "execution_count": null,
   "metadata": {},
   "outputs": [
    {
     "name": "stdout",
     "output_type": "stream",
     "text": [
      "Accuracy of K-NN classifier on training set: 0.49\n",
      "Accuracy of K-NN classifier on test set: 0.21\n"
     ]
    }
   ],
   "source": [
    "#Checking performance on the training set\n",
    "print('Accuracy of K-NN classifier on training set: {:.2f}'\n",
    "     .format(knn.score(X_train, y_train)))\n",
    "#Checking performance on the test set\n",
    "print('Accuracy of K-NN classifier on test set: {:.2f}'\n",
    "     .format(knn.score(X_test, y_test)))\n",
    "\n"
   ]
  },
  {
   "cell_type": "markdown",
   "metadata": {},
   "source": [
    "## NB with Hashtags"
   ]
  },
  {
   "cell_type": "code",
   "execution_count": 86,
   "metadata": {},
   "outputs": [],
   "source": [
    "%%capture\n",
    "%%time\n",
    "vectorizer = CountVectorizer(min_df=10)\n",
    "\n",
    "clf = MultinomialNB(alpha=0.2)\n",
    "clf.fit(X_train, y_train)\n",
    "\n",
    "y_pred = clf.predict(X_test)\n",
    "print(classification_report(y_test,y_pred))"
   ]
  },
  {
   "cell_type": "code",
   "execution_count": null,
   "metadata": {},
   "outputs": [
    {
     "name": "stdout",
     "output_type": "stream",
     "text": [
      "Accuracy of K-NN classifier on training set: 0.49\n",
      "Accuracy of K-NN classifier on test set: 0.21\n"
     ]
    }
   ],
   "source": [
    "#Checking performance on the training set\n",
    "print('Accuracy of K-NN classifier on training set: {:.2f}'\n",
    "     .format(knn.score(X_train, y_train)))\n",
    "#Checking performance on the test set\n",
    "print('Accuracy of K-NN classifier on test set: {:.2f}'\n",
    "     .format(knn.score(X_test, y_test)))\n",
    "\n"
   ]
  },
  {
   "cell_type": "markdown",
   "metadata": {},
   "source": [
    "## KNN only hastags"
   ]
  },
  {
   "cell_type": "code",
   "execution_count": 87,
   "metadata": {},
   "outputs": [
    {
     "data": {
      "text/plain": [
       "<161245x154854 sparse matrix of type '<class 'numpy.int64'>'\n",
       "\twith 405799 stored elements in Compressed Sparse Row format>"
      ]
     },
     "execution_count": 87,
     "metadata": {},
     "output_type": "execute_result"
    }
   ],
   "source": [
    "from sklearn.feature_extraction.text import CountVectorizer\n",
    "\n",
    "vectorizer = CountVectorizer()\n",
    "X = vectorizer.fit_transform(df_us_train_filtered['hashtags_as_str'])\n",
    "y = df_us_train_filtered['label']\n",
    "X"
   ]
  },
  {
   "cell_type": "code",
   "execution_count": 88,
   "metadata": {},
   "outputs": [
    {
     "data": {
      "text/plain": [
       "KNeighborsClassifier(n_neighbors=3)"
      ]
     },
     "execution_count": 88,
     "metadata": {},
     "output_type": "execute_result"
    }
   ],
   "source": [
    "# entrenar knn con hashtags\n",
    "\n",
    "# comparar metricas como recall precision accuracy f1\n",
    "\n",
    "#split dataset into train and test data\n",
    "X_train, X_test, y_train, y_test = train_test_split(X, y, test_size=0.3, random_state=1, stratify=y)\n",
    "\n",
    "# Create KNN classifier\n",
    "knn = KNeighborsClassifier(n_neighbors = 3)\n",
    "\n",
    "# Fit the classifier to the data\n",
    "knn.fit(X_train,y_train)"
   ]
  },
  {
   "cell_type": "code",
   "execution_count": 89,
   "metadata": {},
   "outputs": [],
   "source": [
    "%%capture\n",
    "from sklearn.metrics import classification_report\n",
    "y_pred = knn.predict(X_test)\n",
    "print(classification_report(y_test,y_pred))"
   ]
  },
  {
   "cell_type": "code",
   "execution_count": null,
   "metadata": {},
   "outputs": [
    {
     "name": "stdout",
     "output_type": "stream",
     "text": [
      "Accuracy of K-NN classifier on training set: 0.38\n",
      "Accuracy of K-NN classifier on test set: 0.25\n"
     ]
    }
   ],
   "source": [
    "#Checking performance on the training set\n",
    "print('Accuracy of K-NN classifier on training set: {:.2f}'\n",
    "     .format(knn.score(X_train, y_train)))\n",
    "#Checking performance on the test set\n",
    "print('Accuracy of K-NN classifier on test set: {:.2f}'\n",
    "     .format(knn.score(X_test, y_test)))"
   ]
  },
  {
   "cell_type": "markdown",
   "metadata": {},
   "source": [
    "## NB only Hashtags"
   ]
  },
  {
   "cell_type": "code",
   "execution_count": 90,
   "metadata": {},
   "outputs": [],
   "source": [
    "%%capture\n",
    "vectorizer = CountVectorizer(min_df=10)\n",
    "\n",
    "clf = MultinomialNB(alpha=0.2)\n",
    "clf.fit(X_train, y_train)\n",
    "\n",
    "y_pred = clf.predict(X_test)\n",
    "print(classification_report(y_test,y_pred))"
   ]
  },
  {
   "cell_type": "code",
   "execution_count": null,
   "metadata": {},
   "outputs": [
    {
     "name": "stdout",
     "output_type": "stream",
     "text": [
      "Accuracy of K-NN classifier on training set: 0.38\n",
      "Accuracy of K-NN classifier on test set: 0.25\n"
     ]
    }
   ],
   "source": [
    "#Checking performance on the training set\n",
    "print('Accuracy of K-NN classifier on training set: {:.2f}'\n",
    "     .format(knn.score(X_train, y_train)))\n",
    "#Checking performance on the test set\n",
    "print('Accuracy of K-NN classifier on test set: {:.2f}'\n",
    "     .format(knn.score(X_test, y_test)))\n",
    "\n"
   ]
  },
  {
   "cell_type": "markdown",
   "metadata": {},
   "source": [
    "## Histograma KNN English"
   ]
  },
  {
   "cell_type": "code",
   "execution_count": 91,
   "metadata": {},
   "outputs": [
    {
     "data": {
      "text/html": [
       "<div>\n",
       "<style scoped>\n",
       "    .dataframe tbody tr th:only-of-type {\n",
       "        vertical-align: middle;\n",
       "    }\n",
       "\n",
       "    .dataframe tbody tr th {\n",
       "        vertical-align: top;\n",
       "    }\n",
       "\n",
       "    .dataframe thead th {\n",
       "        text-align: right;\n",
       "    }\n",
       "</style>\n",
       "<table border=\"1\" class=\"dataframe\">\n",
       "  <thead>\n",
       "    <tr style=\"text-align: right;\">\n",
       "      <th></th>\n",
       "      <th>Atribute</th>\n",
       "      <th>KNN_w_hashtags</th>\n",
       "      <th>KNN_only_hashtags</th>\n",
       "      <th>KNN_wo_hashtags</th>\n",
       "    </tr>\n",
       "  </thead>\n",
       "  <tbody>\n",
       "    <tr>\n",
       "      <th>0</th>\n",
       "      <td>precision</td>\n",
       "      <td>0.18</td>\n",
       "      <td>0.24</td>\n",
       "      <td>0.17</td>\n",
       "    </tr>\n",
       "    <tr>\n",
       "      <th>1</th>\n",
       "      <td>recall</td>\n",
       "      <td>0.11</td>\n",
       "      <td>0.13</td>\n",
       "      <td>0.11</td>\n",
       "    </tr>\n",
       "    <tr>\n",
       "      <th>2</th>\n",
       "      <td>f1-score</td>\n",
       "      <td>0.11</td>\n",
       "      <td>0.14</td>\n",
       "      <td>0.11</td>\n",
       "    </tr>\n",
       "    <tr>\n",
       "      <th>3</th>\n",
       "      <td>accuracy train_set</td>\n",
       "      <td>0.47</td>\n",
       "      <td>0.38</td>\n",
       "      <td>0.45</td>\n",
       "    </tr>\n",
       "    <tr>\n",
       "      <th>4</th>\n",
       "      <td>accuracy test_set</td>\n",
       "      <td>0.21</td>\n",
       "      <td>0.25</td>\n",
       "      <td>0.21</td>\n",
       "    </tr>\n",
       "  </tbody>\n",
       "</table>\n",
       "</div>"
      ],
      "text/plain": [
       "             Atribute  KNN_w_hashtags  KNN_only_hashtags  KNN_wo_hashtags\n",
       "0           precision            0.18               0.24             0.17\n",
       "1              recall            0.11               0.13             0.11\n",
       "2            f1-score            0.11               0.14             0.11\n",
       "3  accuracy train_set            0.47               0.38             0.45\n",
       "4   accuracy test_set            0.21               0.25             0.21"
      ]
     },
     "execution_count": 91,
     "metadata": {},
     "output_type": "execute_result"
    }
   ],
   "source": [
    "%matplotlib inline\n",
    "import numpy as np\n",
    "import matplotlib.pyplot as plt\n",
    "import pandas\n",
    "#import seaborn\n",
    "#seaborn.set(style='ticks')\n",
    "\n",
    "df=pd.DataFrame()\n",
    "df['Atribute'] = ['precision', 'recall', 'f1-score', 'accuracy train_set', 'accuracy test_set']\n",
    "df['KNN_w_hashtags'] = [0.18, 0.11, 0.11, 0.47, 0.21]\n",
    "df['KNN_only_hashtags'] = [0.24, 0.13, 0.14, 0.38, 0.25]\n",
    "df['KNN_wo_hashtags'] = [ 0.17,0.11,0.11, 0.45, 0.21]\n",
    "\n",
    " \n",
    "df\n"
   ]
  },
  {
   "cell_type": "code",
   "execution_count": null,
   "metadata": {},
   "outputs": [
    {
     "data": {
      "text/plain": [
       "<AxesSubplot:xlabel='Atribute'>"
      ]
     },
     "execution_count": 404,
     "metadata": {},
     "output_type": "execute_result"
    },
    {
     "data": {
      "image/png": "[encoded data removed]",
      "text/plain": [
       "<Figure size 864x288 with 1 Axes>"
      ]
     },
     "metadata": {
      "needs_background": "light"
     },
     "output_type": "display_data"
    }
   ],
   "source": [
    "df.plot.bar(x='Atribute',figsize=(12,4), width=0.25)\n"
   ]
  },
  {
   "cell_type": "markdown",
   "metadata": {},
   "source": [
    "## Histograma Multinomial NB English"
   ]
  },
  {
   "cell_type": "code",
   "execution_count": 92,
   "metadata": {},
   "outputs": [
    {
     "data": {
      "text/html": [
       "<div>\n",
       "<style scoped>\n",
       "    .dataframe tbody tr th:only-of-type {\n",
       "        vertical-align: middle;\n",
       "    }\n",
       "\n",
       "    .dataframe tbody tr th {\n",
       "        vertical-align: top;\n",
       "    }\n",
       "\n",
       "    .dataframe thead th {\n",
       "        text-align: right;\n",
       "    }\n",
       "</style>\n",
       "<table border=\"1\" class=\"dataframe\">\n",
       "  <thead>\n",
       "    <tr style=\"text-align: right;\">\n",
       "      <th></th>\n",
       "      <th>Atribute</th>\n",
       "      <th>Mult_NB_w_hashtags</th>\n",
       "      <th>Mult_NB_only_hashtags</th>\n",
       "      <th>Mult_NB_wo_hashtags</th>\n",
       "    </tr>\n",
       "  </thead>\n",
       "  <tbody>\n",
       "    <tr>\n",
       "      <th>0</th>\n",
       "      <td>precision</td>\n",
       "      <td>0.29</td>\n",
       "      <td>0.28</td>\n",
       "      <td>0.22</td>\n",
       "    </tr>\n",
       "    <tr>\n",
       "      <th>1</th>\n",
       "      <td>recall</td>\n",
       "      <td>0.21</td>\n",
       "      <td>0.18</td>\n",
       "      <td>0.18</td>\n",
       "    </tr>\n",
       "    <tr>\n",
       "      <th>2</th>\n",
       "      <td>f1-score</td>\n",
       "      <td>0.22</td>\n",
       "      <td>0.19</td>\n",
       "      <td>0.18</td>\n",
       "    </tr>\n",
       "    <tr>\n",
       "      <th>3</th>\n",
       "      <td>accuracy train_set</td>\n",
       "      <td>0.49</td>\n",
       "      <td>0.38</td>\n",
       "      <td>0.45</td>\n",
       "    </tr>\n",
       "    <tr>\n",
       "      <th>4</th>\n",
       "      <td>accuracy test_set</td>\n",
       "      <td>0.21</td>\n",
       "      <td>0.25</td>\n",
       "      <td>0.21</td>\n",
       "    </tr>\n",
       "  </tbody>\n",
       "</table>\n",
       "</div>"
      ],
      "text/plain": [
       "             Atribute  Mult_NB_w_hashtags  Mult_NB_only_hashtags  \\\n",
       "0           precision                0.29                   0.28   \n",
       "1              recall                0.21                   0.18   \n",
       "2            f1-score                0.22                   0.19   \n",
       "3  accuracy train_set                0.49                   0.38   \n",
       "4   accuracy test_set                0.21                   0.25   \n",
       "\n",
       "   Mult_NB_wo_hashtags  \n",
       "0                 0.22  \n",
       "1                 0.18  \n",
       "2                 0.18  \n",
       "3                 0.45  \n",
       "4                 0.21  "
      ]
     },
     "execution_count": 92,
     "metadata": {},
     "output_type": "execute_result"
    }
   ],
   "source": [
    "%matplotlib inline\n",
    "import numpy as np\n",
    "import matplotlib.pyplot as plt\n",
    "import pandas\n",
    "#import seaborn\n",
    "#seaborn.set(style='ticks')\n",
    "\n",
    "df=pd.DataFrame()\n",
    "df['Atribute'] = ['precision', 'recall', 'f1-score', 'accuracy train_set', 'accuracy test_set']\n",
    "df['Mult_NB_w_hashtags'] = [0.29,      0.21,      0.22, 0.49, 0.21]\n",
    "df['Mult_NB_only_hashtags'] = [0.28,      0.18,      0.19, 0.38, 0.25]\n",
    "df['Mult_NB_wo_hashtags'] = [0.22,      0.18,      0.18, 0.45, 0.21 ]\n",
    "\n",
    " \n",
    "df\n"
   ]
  },
  {
   "cell_type": "code",
   "execution_count": 93,
   "metadata": {},
   "outputs": [
    {
     "data": {
      "text/plain": [
       "<AxesSubplot:xlabel='Atribute'>"
      ]
     },
     "execution_count": 93,
     "metadata": {},
     "output_type": "execute_result"
    },
    {
     "data": {
      "image/png": "[encoded data removed]",
      "text/plain": [
       "<Figure size 864x288 with 1 Axes>"
      ]
     },
     "metadata": {
      "needs_background": "light"
     },
     "output_type": "display_data"
    }
   ],
   "source": [
    "df.plot.bar(x='Atribute',figsize=(12,4), width=0.25)\n"
   ]
  },
  {
   "cell_type": "markdown",
   "metadata": {},
   "source": [
    "Podemos ver que para el caso de los tweets en inglés, se da exactamente el mismo comportamiento que para aquellos en español, para ambos clasificadores. Esto nos permite corroborar una vez más que se cumple la hipótesis presentada y establecer que los hashtags permiten predecir de mejor manera un emoji presente en un tweet. \n",
    "\n",
    "### Direcciones futuras\n",
    "\n",
    "Ahora si bien el estudio realizado permitió responder a nuestra pregunta inicial, se podría haber realizado algunos pasos extras para mejorar la calidad del análisis, que no se realizaron prinipalmente por tiempo. Principalmente se podrían estudiar aquellos hashtags que se lograban predecir con una mayor tasa de exitos, tanto para los tweets en español como para los tweets en inglés, para así poder entender en qué caso o qué determina que un hashtag sea \"mejor\" que otro a la hora de predecir un emoji o una \"emoción\"."
   ]
  }
 ],
 "metadata": {
  "interpreter": {
   "hash": "7ed512e59b1857458359635d47e777e7171a2fdd13f9ca7ea3b3764edb350a14"
  },
  "kernelspec": {
   "display_name": "Python 3.10.0 64-bit",
   "language": "python",
   "name": "python3"
  },
  "language_info": {
   "codemirror_mode": {
    "name": "ipython",
    "version": 3
   },
   "file_extension": ".py",
   "mimetype": "text/x-python",
   "name": "python",
   "nbconvert_exporter": "python",
   "pygments_lexer": "ipython3",
   "version": "3.10.0"
  },
  "orig_nbformat": 4
 },
 "nbformat": 4,
 "nbformat_minor": 2
}
